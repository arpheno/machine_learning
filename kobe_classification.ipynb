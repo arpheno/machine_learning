{
 "cells": [
  {
   "cell_type": "code",
   "execution_count": 6,
   "metadata": {},
   "outputs": [
    {
     "name": "stdout",
     "output_type": "stream",
     "text": [
      "'numpy 1.13.3 pandas 0.20.3 sklearn 0.19.0'\n"
     ]
    }
   ],
   "source": [
    "# %load imports.ipy\n",
    "# Stdlib\n",
    "from functools import partial\n",
    "from itertools import chain\n",
    "from pprint import pprint as print\n",
    "\n",
    "import numpy as np\n",
    "import pandas as pd\n",
    "\n",
    "pd.set_option('display.max_columns',102)\n",
    "pd.set_option('display.max_colwidth', -1)\n",
    "pd.set_option('display.width',120)\n",
    "import sklearn\n",
    "print(f'numpy {np.__version__} pandas {pd.__version__} sklearn {sklearn.__version__}')\n",
    "\n",
    "# Visualization\n",
    "\n",
    "%matplotlib inline\n",
    "import matplotlib as mpl\n",
    "import matplotlib.pyplot as plt\n",
    "import seaborn as sns\n",
    "from jupyterthemes import jtplot\n",
    "\n",
    "custom_style = {'axes.labelcolor': 'white', 'xtick.color': 'white', 'ytick.color': 'white', }\n",
    "sns.set_style( rc=custom_style)\n",
    "mpl.rcParams['figure.figsize']=(10,10)\n",
    "plt.rcParams['figure.figsize']=(10,10)\n",
    "jtplot.style('monokai')\n",
    "# Custom stuff\n",
    "from swozny_ml import *\n",
    "from genetic.parameter_optimization import tune_params_genetic\n"
   ]
  },
  {
   "cell_type": "code",
   "execution_count": 8,
   "metadata": {},
   "outputs": [],
   "source": [
    "# %load classify.py\n"
   ]
  }
 ],
 "metadata": {
  "kernelspec": {
   "display_name": "Python 3",
   "language": "python",
   "name": "python3"
  },
  "language_info": {
   "codemirror_mode": {
    "name": "ipython",
    "version": 3
   },
   "file_extension": ".py",
   "mimetype": "text/x-python",
   "name": "python",
   "nbconvert_exporter": "python",
   "pygments_lexer": "ipython3",
   "version": "3.6.2"
  }
 },
 "nbformat": 4,
 "nbformat_minor": 2
}
