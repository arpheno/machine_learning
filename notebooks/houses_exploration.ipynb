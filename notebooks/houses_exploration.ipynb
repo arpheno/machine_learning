{
 "cells": [
  {
   "cell_type": "code",
   "execution_count": 1,
   "metadata": {},
   "outputs": [
    {
     "name": "stdout",
     "output_type": "stream",
     "text": [
      "'numpy 1.13.3 pandas 0.20.3 sklearn 0.19.1'\n"
     ]
    },
    {
     "name": "stderr",
     "output_type": "stream",
     "text": [
      "/home/swozny/untitled5/lib/python3.6/site-packages/sklearn/cross_validation.py:41: DeprecationWarning: This module was deprecated in version 0.18 in favor of the model_selection module into which all the refactored classes and functions are moved. Also note that the interface of the new CV iterators are different from that of this module. This module will be removed in 0.20.\n",
      "  \"This module will be removed in 0.20.\", DeprecationWarning)\n"
     ]
    }
   ],
   "source": [
    "# %load imports.ipy\n",
    "# Stdlib\n",
    "%matplotlib inline\n",
    "\n",
    "from swozny_ml import *\n",
    "# jt --cellwidth 100% --vimext  -t monokai -f roboto\n",
    "jtplot.style('monokai')\n",
    "pd.set_option('display.max_columns',102)\n",
    "pd.set_option('display.max_colwidth', -1)\n",
    "pd.set_option('display.width',120)\n",
    "\n",
    "pd.set_option('display.float_format', lambda x: '{:.3f}'.format(x)) \n",
    "custom_style = {'axes.labelcolor': 'white', 'xtick.color': 'white', 'ytick.color': 'white', };\n",
    "sns.set_style( rc=custom_style)\n",
    "mpl.rcParams['figure.figsize']=(10,10);plt.rcParams['figure.figsize']=(10,10);\n",
    "from sklearn.metrics import make_scorer\n",
    "\n",
    "from sklearn.pipeline import make_pipeline\n",
    "from sklearn.preprocessing import RobustScaler\n",
    "from sklearn.base import BaseEstimator, TransformerMixin, RegressorMixin, clone\n",
    "from sklearn.model_selection import KFold, cross_val_score, train_test_split\n",
    "from sklearn.metrics import mean_squared_error"
   ]
  },
  {
   "cell_type": "code",
   "execution_count": 2,
   "metadata": {},
   "outputs": [],
   "source": [
    "filename = 'datasets/houses.csv'\n",
    "index = 'Id'\n",
    "target = 'SalePrice'\n",
    "scoring = make_scorer(neg_log_mean_squared_error_inv_boxcox,greater_is_better=True)"
   ]
  },
  {
   "cell_type": "code",
   "execution_count": 3,
   "metadata": {},
   "outputs": [
    {
     "name": "stdout",
     "output_type": "stream",
     "text": [
      "Reduced skew from 1.2573 to -0.0001 for 1stFlrSF\n",
      "Reduced skew from 0.8616 to 0.2969 for 2ndFlrSF\n",
      "Reduced skew from 11.3721 to 8.7092 for 3SsnPorch\n",
      "Reduced skew from 0.3266 to 0.0932 for BedroomAbvGr\n",
      "Reduced skew from 0.9806 to -0.4037 for BsmtFinSF1\n",
      "Reduced skew from 4.1445 to 2.3541 for BsmtFinSF2\n",
      "Reduced skew from 0.6224 to 0.3574 for BsmtFullBath\n",
      "Reduced skew from 3.9300 to 3.7057 for BsmtHalfBath\n",
      "Reduced skew from 0.9197 to -0.2766 for BsmtUnfSF\n",
      "Reduced skew from 4.0023 to 1.8820 for EnclosedPorch\n",
      "Reduced skew from 0.7253 to 0.1128 for Fireplaces\n",
      "Reduced skew from 0.1655 to -0.0301 for FullBath\n",
      "Failed to reduce skew with BoxCox for GarageArea\n",
      "Reduced skew from -0.2193 to -0.0085 for GarageCars\n",
      "Reduced skew from -0.7024 to 0.2681 for GarageYrBlt\n",
      "Reduced skew from 1.0688 to 0.0002 for GrLivArea\n",
      "Reduced skew from 0.6967 to 0.5358 for HalfBath\n",
      "Reduced skew from 4.3006 to -2.0625 for KitchenAbvGr\n",
      "Reduced skew from 13.1095 to 0.1107 for LotArea\n",
      "Reduced skew from 1.1213 to 0.1095 for LotFrontage\n",
      "Reduced skew from 12.0845 to 8.3629 for LowQualFinSF\n",
      "Reduced skew from 1.3751 to 0.0707 for MSSubClass\n",
      "Reduced skew from 2.6217 to 0.4589 for MasVnrArea\n",
      "Reduced skew from 21.9397 to 5.0356 for MiscVal\n",
      "Reduced skew from 0.1973 to -0.0499 for MoSold\n",
      "Reduced skew from 2.5294 to -0.0260 for OpenPorchSF\n",
      "Reduced skew from 0.5693 to 0.0908 for OverallCond\n",
      "Reduced skew from 0.1896 to 0.0192 for OverallQual\n",
      "Reduced skew from 17.6887 to 15.4948 for PoolArea\n",
      "Reduced skew from 1.8794 to -0.0086 for SalePrice\n",
      "Reduced skew from 3.9451 to 2.9139 for ScreenPorch\n",
      "Reduced skew from 0.7492 to -0.0009 for TotRmsAbvGrd\n",
      "Reduced skew from 0.6718 to -0.0124 for TotalBsmtSF\n",
      "Reduced skew from 1.8448 to 0.1371 for WoodDeckSF\n",
      "Reduced skew from -0.5992 to -0.1371 for YearBuilt\n",
      "Failed to reduce skew with BoxCox for YearRemodAdd\n",
      "Reduced skew from 0.1320 to 0.1292 for YrSold\n",
      "Reduced skew from 1.0092 to 0.0306 for total_sf\n"
     ]
    },
    {
     "name": "stderr",
     "output_type": "stream",
     "text": [
      "/home/swozny/untitled5/lib/python3.6/site-packages/scipy/stats/morestats.py:901: RuntimeWarning: overflow encountered in square\n",
      "  llf -= N / 2.0 * np.log(np.sum((y - y_mean)**2. / N, axis=0))\n",
      "/home/swozny/untitled5/lib/python3.6/site-packages/scipy/optimize/optimize.py:1927: RuntimeWarning: invalid value encountered in double_scalars\n",
      "  tmp2 = (x - v) * (fx - fw)\n",
      "/home/swozny/untitled5/lib/python3.6/site-packages/scipy/stats/stats.py:952: RuntimeWarning: overflow encountered in multiply\n",
      "  s *= a_zero_mean\n",
      "/home/swozny/untitled5/lib/python3.6/site-packages/scipy/stats/stats.py:1060: RuntimeWarning: overflow encountered in power\n",
      "  lambda m2, m3: m3 / m2**1.5,\n"
     ]
    }
   ],
   "source": [
    "# Read data\n",
    "data = pd.concat([pd.read_csv(filename, index_col=index),\n",
    "                  pd.read_csv('datasets/houses_test.csv', index_col=index)])\n",
    "data = data.drop(data[(data['GrLivArea'] > 4000) &\n",
    "                      (data['SalePrice'] < 300000)].index)\n",
    "data = data.drop(['Utilities'], axis=1)\n",
    "X = ['Alley', 'MasVnrArea', 'BsmtCond', 'FireplaceQu', 'GarageCond', 'GarageArea', 'GarageCars',\n",
    "     'GarageQual', 'GarageFinish', 'GarageType', 'PoolQC', 'MiscFeature', 'BsmtExposure', 'BsmtFinSF1', 'BsmtFinSF2', 'BsmtFullBath', 'BsmtHalfBath', 'BsmtQual', 'BsmtUnfSF', 'Fence']\n",
    "for col in X:\n",
    "    data[col] = data[col].fillna(0)\n",
    "    \n",
    "data['MasVnrType']=data['MasVnrType'].fillna('None')\n",
    "data['GarageYrBlt']=data[ 'GarageYrBlt'].fillna(1900)\n",
    "data['Functional']=data['Functional'].fillna('Typ')\n",
    "data['BsmtFinType1']=data['BsmtFinType1'].fillna('Unf')\n",
    "data['BsmtFinType2']=data['BsmtFinType2'].fillna('Unf')\n",
    "data['Exterior1st']=data['Exterior1st'].fillna('Other')\n",
    "data['Exterior2nd']=data['Exterior2nd'].fillna('Other')\n",
    "data['Electrical']=data['Exterior2nd'].fillna('SBrkr')\n",
    "data['MSSubClass'] = data['MSSubClass'].fillna(\"None\")\n",
    "data['KitchenQual'] = data['KitchenQual'].fillna(data['KitchenQual'].mode()[0])\n",
    "data['TotalBsmtSF'] = data['BsmtFinSF1'] + data['BsmtFinSF2'] +  data['BsmtUnfSF']\n",
    "data['total_sf'] = data['TotalBsmtSF'] + data['1stFlrSF'] + data['2ndFlrSF']\n",
    "\n",
    "deskew = [target,'LotArea','GrLivArea','LowQualFinSF','LotFrontage','MiscVal',\n",
    "          'PoolArea','3SsnPorch','EnclosedPorch','ScreenPorch','MasVnrArea','WoodDeckSF',\n",
    "         'total_sf','TotalBsmtSF','1stFlrSF','GarageYrBlt','LowQualFinSF','2ndFlrSF']\n",
    "for col in data.select_dtypes(include=[np.number]):\n",
    "    data[col]=boxcox(data[col])"
   ]
  },
  {
   "cell_type": "code",
   "execution_count": 4,
   "metadata": {},
   "outputs": [],
   "source": [
    "dontknow = ['PoolArea','MiscVal']\n",
    "qcuts = ['BsmtUnfSF','2ndFFlrSF','BsmtFinSF1','BsmtFinSF2','MasVnrArea','WoodDeckSF']\n",
    "categorical=['KitchenAbvGr','OverallCond']"
   ]
  },
  {
   "cell_type": "code",
   "execution_count": 5,
   "metadata": {},
   "outputs": [
    {
     "name": "stdout",
     "output_type": "stream",
     "text": [
      "Predicting LotFrontage and it is a regression problem\n",
      "Evaluating LGBMRegressor...-5.09 -3.81 -11.34 -6.27 -3.84 -4.13 ... best is (-3.8069662753781741, 0.19110940143142424, LGBMRegressor(boosting_type='gbdt', colsample_bytree=0.74515020093660744,\n",
      "       learning_rate=0.15477506171343897, max_bin=255, max_depth=-1,\n",
      "       min_child_samples=10, min_child_weight=3, min_split_gain=0.0,\n",
      "       n_estimators=24, n_jobs=-1, num_leaves=100, objective=None,\n",
      "       random_state=0, reg_alpha=1.0165221760502872,\n",
      "       reg_lambda=1.4464050556671946, silent=True,\n",
      "       subsample=0.72605537653770136, subsample_for_bin=50000,\n",
      "       subsample_freq=1)).\n",
      "Evaluating AdaBoostRegressor...-6.28 -5.44 -5.70 -5.75 -5.59 -5.77 ... best is (-5.4438682031205472, 0.37352796944398819, AdaBoostRegressor(base_estimator=None, learning_rate=0.045491506978836471,\n",
      "         loss='linear', n_estimators=100, random_state=None)).\n",
      "Evaluating GradientBoostingRegressor...-3.91 failed failed failed failed failed ... best is (-3.9057155293086878, 0.33931406067229819, GradientBoostingRegressor(alpha=0.9, criterion='friedman_mse', init=None,\n",
      "             learning_rate=0.1, loss='ls', max_depth=3, max_features=None,\n",
      "             max_leaf_nodes=None, min_impurity_decrease=0.0,\n",
      "             min_impurity_split=None, min_samples_leaf=1,\n",
      "             min_samples_split=2, min_weight_fraction_leaf=0.0,\n",
      "             n_estimators=100, presort='auto', random_state=None,\n",
      "             subsample=1.0, verbose=0, warm_start=False)).\n",
      "Evaluating RandomForestRegressor...-4.31 -3.87 -3.87 -3.89 -3.88 -3.91 "
     ]
    },
    {
     "ename": "TypeError",
     "evalue": "'>' not supported between instances of 'RandomForestRegressor' and 'RandomForestRegressor'",
     "output_type": "error",
     "traceback": [
      "\u001b[0;31m---------------------------------------------------------------------------\u001b[0m",
      "\u001b[0;31mTypeError\u001b[0m                                 Traceback (most recent call last)",
      "\u001b[0;32m~/PycharmProjects/ml/swozny_ml.py\u001b[0m in \u001b[0;36m<module>\u001b[0;34m()\u001b[0m\n\u001b[0;32m----> 1\u001b[0;31m \u001b[0mdata\u001b[0m\u001b[0;34m=\u001b[0m\u001b[0mimpute_linear\u001b[0m\u001b[0;34m(\u001b[0m\u001b[0mdata\u001b[0m\u001b[0;34m,\u001b[0m\u001b[0;34m'LotFrontage'\u001b[0m\u001b[0;34m,\u001b[0m\u001b[0;34m[\u001b[0m\u001b[0;34m'LotArea'\u001b[0m\u001b[0;34m,\u001b[0m\u001b[0;34m'GarageArea'\u001b[0m\u001b[0;34m,\u001b[0m\u001b[0;34m'GrLivArea'\u001b[0m\u001b[0;34m,\u001b[0m\u001b[0;34m'MiscVal'\u001b[0m\u001b[0;34m]\u001b[0m\u001b[0;34m,\u001b[0m\u001b[0;34m[\u001b[0m\u001b[0;34m'Neighborhood'\u001b[0m\u001b[0;34m,\u001b[0m\u001b[0;34m'MSSubClass'\u001b[0m\u001b[0;34m,\u001b[0m\u001b[0;34m'LotShape'\u001b[0m\u001b[0;34m,\u001b[0m\u001b[0;34m'BldgType'\u001b[0m\u001b[0;34m,\u001b[0m\u001b[0;34m'LotConfig'\u001b[0m\u001b[0;34m,\u001b[0m\u001b[0;34m'Foundation'\u001b[0m\u001b[0;34m,\u001b[0m\u001b[0;34m'GarageType'\u001b[0m\u001b[0;34m]\u001b[0m\u001b[0;34m,\u001b[0m\u001b[0;34m'neg_mean_squared_error'\u001b[0m\u001b[0;34m)\u001b[0m\u001b[0;34m\u001b[0m\u001b[0m\n\u001b[0m\u001b[1;32m      2\u001b[0m \u001b[0mdata\u001b[0m\u001b[0;34m=\u001b[0m\u001b[0mimpute_logistic\u001b[0m\u001b[0;34m(\u001b[0m\u001b[0mdata\u001b[0m\u001b[0;34m,\u001b[0m\u001b[0;34m'SaleType'\u001b[0m\u001b[0;34m,\u001b[0m\u001b[0;34m[\u001b[0m\u001b[0;34m'YearBuilt'\u001b[0m\u001b[0;34m]\u001b[0m\u001b[0;34m,\u001b[0m\u001b[0;34m[\u001b[0m\u001b[0;34m'Neighborhood'\u001b[0m\u001b[0;34m,\u001b[0m\u001b[0;34m'MSSubClass'\u001b[0m\u001b[0;34m,\u001b[0m\u001b[0;34m'RoofStyle'\u001b[0m\u001b[0;34m,\u001b[0m\u001b[0;34m'RoofMatl'\u001b[0m\u001b[0;34m,\u001b[0m\u001b[0;34m'SaleCondition'\u001b[0m\u001b[0;34m,\u001b[0m\u001b[0;34m'ExterCond'\u001b[0m\u001b[0;34m,\u001b[0m\u001b[0;34m'BldgType'\u001b[0m\u001b[0;34m,\u001b[0m\u001b[0;34m'MasVnrType'\u001b[0m\u001b[0;34m,\u001b[0m\u001b[0;34m'OverallQual'\u001b[0m\u001b[0;34m,\u001b[0m\u001b[0;34m'OverallCond'\u001b[0m\u001b[0;34m,\u001b[0m\u001b[0;34m'MSZoning'\u001b[0m\u001b[0;34m]\u001b[0m\u001b[0;34m,\u001b[0m\u001b[0;34m'accuracy'\u001b[0m\u001b[0;34m)\u001b[0m\u001b[0;34m\u001b[0m\u001b[0m\n",
      "\u001b[0;32m~/PycharmProjects/ml/ml/imputation.py\u001b[0m in \u001b[0;36mimpute_linear\u001b[0;34m(data, target, scale, categorical, scoring)\u001b[0m\n\u001b[1;32m     43\u001b[0m                          any(param.startswith(dummy) for dummy in prediction_params)]\n\u001b[1;32m     44\u001b[0m     \u001b[0mX_train\u001b[0m \u001b[0;34m=\u001b[0m \u001b[0m_data\u001b[0m\u001b[0;34m[\u001b[0m\u001b[0mtraining_cond\u001b[0m\u001b[0;34m]\u001b[0m\u001b[0;34m[\u001b[0m\u001b[0mprediction_params\u001b[0m\u001b[0;34m]\u001b[0m\u001b[0;34m\u001b[0m\u001b[0m\n\u001b[0;32m---> 45\u001b[0;31m     \u001b[0mbenchmark\u001b[0m \u001b[0;34m=\u001b[0m \u001b[0mbenchmark_models\u001b[0m\u001b[0;34m(\u001b[0m \u001b[0mX_train\u001b[0m\u001b[0;34m,\u001b[0m \u001b[0my_train\u001b[0m\u001b[0;34m,\u001b[0m \u001b[0mscoring\u001b[0m\u001b[0;34m=\u001b[0m\u001b[0mscoring\u001b[0m\u001b[0;34m)\u001b[0m\u001b[0;34m\u001b[0m\u001b[0m\n\u001b[0m\u001b[1;32m     46\u001b[0m     \u001b[0mm\u001b[0m\u001b[0;34m=\u001b[0m\u001b[0mbenchmark\u001b[0m\u001b[0;34m[\u001b[0m\u001b[0mbenchmark\u001b[0m\u001b[0;34m.\u001b[0m\u001b[0midxmax\u001b[0m\u001b[0;34m(\u001b[0m\u001b[0;34m'Mean'\u001b[0m\u001b[0;34m)\u001b[0m\u001b[0;34m]\u001b[0m\u001b[0;34m\u001b[0m\u001b[0m\n\u001b[1;32m     47\u001b[0m     \u001b[0mm\u001b[0m\u001b[0;34m.\u001b[0m\u001b[0mfit\u001b[0m\u001b[0;34m(\u001b[0m\u001b[0mX_train\u001b[0m\u001b[0;34m,\u001b[0m \u001b[0my_train\u001b[0m\u001b[0;34m)\u001b[0m\u001b[0;34m\u001b[0m\u001b[0m\n",
      "\u001b[0;32m~/PycharmProjects/ml/ml/benchmark.py\u001b[0m in \u001b[0;36mbenchmark_models\u001b[0;34m(X_train, y_train, scoring)\u001b[0m\n\u001b[1;32m     24\u001b[0m         \u001b[0msns\u001b[0m\u001b[0;34m.\u001b[0m\u001b[0mdistplot\u001b[0m\u001b[0;34m(\u001b[0m\u001b[0my_train\u001b[0m\u001b[0;34m)\u001b[0m\u001b[0;34m\u001b[0m\u001b[0m\n\u001b[1;32m     25\u001b[0m         \u001b[0mmodels\u001b[0m \u001b[0;34m=\u001b[0m \u001b[0mregressors\u001b[0m\u001b[0;34m\u001b[0m\u001b[0m\n\u001b[0;32m---> 26\u001b[0;31m     \u001b[0mresults\u001b[0m \u001b[0;34m=\u001b[0m \u001b[0m_benchmark_models\u001b[0m\u001b[0;34m(\u001b[0m\u001b[0mmodels\u001b[0m\u001b[0;34m,\u001b[0m \u001b[0mX_train\u001b[0m\u001b[0;34m,\u001b[0m \u001b[0my_train\u001b[0m\u001b[0;34m,\u001b[0m \u001b[0mscoring\u001b[0m\u001b[0;34m)\u001b[0m\u001b[0;34m.\u001b[0m\u001b[0msort_values\u001b[0m\u001b[0;34m(\u001b[0m\u001b[0;34m'Mean'\u001b[0m\u001b[0;34m,\u001b[0m \u001b[0maxis\u001b[0m\u001b[0;34m=\u001b[0m\u001b[0;36m1\u001b[0m\u001b[0;34m)\u001b[0m\u001b[0;34m\u001b[0m\u001b[0m\n\u001b[0m\u001b[1;32m     27\u001b[0m     \u001b[0;32mreturn\u001b[0m \u001b[0mresults\u001b[0m\u001b[0;34m\u001b[0m\u001b[0m\n\u001b[1;32m     28\u001b[0m \u001b[0;34m\u001b[0m\u001b[0m\n",
      "\u001b[0;32m~/PycharmProjects/ml/ml/benchmark.py\u001b[0m in \u001b[0;36m_benchmark_models\u001b[0;34m(models, X_train, y_train, scoring)\u001b[0m\n\u001b[1;32m     29\u001b[0m \u001b[0;34m\u001b[0m\u001b[0m\n\u001b[1;32m     30\u001b[0m \u001b[0;32mdef\u001b[0m \u001b[0m_benchmark_models\u001b[0m\u001b[0;34m(\u001b[0m\u001b[0mmodels\u001b[0m\u001b[0;34m:\u001b[0m \u001b[0mList\u001b[0m\u001b[0;34m[\u001b[0m\u001b[0mtype\u001b[0m\u001b[0;34m]\u001b[0m\u001b[0;34m,\u001b[0m \u001b[0mX_train\u001b[0m\u001b[0;34m,\u001b[0m \u001b[0my_train\u001b[0m\u001b[0;34m,\u001b[0m \u001b[0mscoring\u001b[0m\u001b[0;34m)\u001b[0m \u001b[0;34m->\u001b[0m \u001b[0mpd\u001b[0m\u001b[0;34m.\u001b[0m\u001b[0mDataFrame\u001b[0m\u001b[0;34m:\u001b[0m\u001b[0;34m\u001b[0m\u001b[0m\n\u001b[0;32m---> 31\u001b[0;31m     \u001b[0;32mreturn\u001b[0m \u001b[0mpd\u001b[0m\u001b[0;34m.\u001b[0m\u001b[0mDataFrame\u001b[0m\u001b[0;34m(\u001b[0m\u001b[0mscore_model\u001b[0m\u001b[0;34m(\u001b[0m\u001b[0mmodel\u001b[0m\u001b[0;34m,\u001b[0m \u001b[0mX_train\u001b[0m\u001b[0;34m,\u001b[0m \u001b[0my_train\u001b[0m\u001b[0;34m,\u001b[0m \u001b[0mscoring\u001b[0m\u001b[0;34m)\u001b[0m \u001b[0;32mfor\u001b[0m \u001b[0mmodel\u001b[0m \u001b[0;32min\u001b[0m \u001b[0mmodels\u001b[0m\u001b[0;34m)\u001b[0m\u001b[0;34m\u001b[0m\u001b[0m\n\u001b[0m\u001b[1;32m     32\u001b[0m \u001b[0;34m\u001b[0m\u001b[0m\n\u001b[1;32m     33\u001b[0m \u001b[0;34m\u001b[0m\u001b[0m\n",
      "\u001b[0;32m~/untitled5/lib/python3.6/site-packages/pandas/core/frame.py\u001b[0m in \u001b[0;36m__init__\u001b[0;34m(self, data, index, columns, dtype, copy)\u001b[0m\n\u001b[1;32m    307\u001b[0m         \u001b[0;32melif\u001b[0m \u001b[0misinstance\u001b[0m\u001b[0;34m(\u001b[0m\u001b[0mdata\u001b[0m\u001b[0;34m,\u001b[0m \u001b[0;34m(\u001b[0m\u001b[0mlist\u001b[0m\u001b[0;34m,\u001b[0m \u001b[0mtypes\u001b[0m\u001b[0;34m.\u001b[0m\u001b[0mGeneratorType\u001b[0m\u001b[0;34m)\u001b[0m\u001b[0;34m)\u001b[0m\u001b[0;34m:\u001b[0m\u001b[0;34m\u001b[0m\u001b[0m\n\u001b[1;32m    308\u001b[0m             \u001b[0;32mif\u001b[0m \u001b[0misinstance\u001b[0m\u001b[0;34m(\u001b[0m\u001b[0mdata\u001b[0m\u001b[0;34m,\u001b[0m \u001b[0mtypes\u001b[0m\u001b[0;34m.\u001b[0m\u001b[0mGeneratorType\u001b[0m\u001b[0;34m)\u001b[0m\u001b[0;34m:\u001b[0m\u001b[0;34m\u001b[0m\u001b[0m\n\u001b[0;32m--> 309\u001b[0;31m                 \u001b[0mdata\u001b[0m \u001b[0;34m=\u001b[0m \u001b[0mlist\u001b[0m\u001b[0;34m(\u001b[0m\u001b[0mdata\u001b[0m\u001b[0;34m)\u001b[0m\u001b[0;34m\u001b[0m\u001b[0m\n\u001b[0m\u001b[1;32m    310\u001b[0m             \u001b[0;32mif\u001b[0m \u001b[0mlen\u001b[0m\u001b[0;34m(\u001b[0m\u001b[0mdata\u001b[0m\u001b[0;34m)\u001b[0m \u001b[0;34m>\u001b[0m \u001b[0;36m0\u001b[0m\u001b[0;34m:\u001b[0m\u001b[0;34m\u001b[0m\u001b[0m\n\u001b[1;32m    311\u001b[0m                 \u001b[0;32mif\u001b[0m \u001b[0mis_list_like\u001b[0m\u001b[0;34m(\u001b[0m\u001b[0mdata\u001b[0m\u001b[0;34m[\u001b[0m\u001b[0;36m0\u001b[0m\u001b[0;34m]\u001b[0m\u001b[0;34m)\u001b[0m \u001b[0;32mand\u001b[0m \u001b[0mgetattr\u001b[0m\u001b[0;34m(\u001b[0m\u001b[0mdata\u001b[0m\u001b[0;34m[\u001b[0m\u001b[0;36m0\u001b[0m\u001b[0;34m]\u001b[0m\u001b[0;34m,\u001b[0m \u001b[0;34m'ndim'\u001b[0m\u001b[0;34m,\u001b[0m \u001b[0;36m1\u001b[0m\u001b[0;34m)\u001b[0m \u001b[0;34m==\u001b[0m \u001b[0;36m1\u001b[0m\u001b[0;34m:\u001b[0m\u001b[0;34m\u001b[0m\u001b[0m\n",
      "\u001b[0;32m~/PycharmProjects/ml/ml/benchmark.py\u001b[0m in \u001b[0;36m<genexpr>\u001b[0;34m(.0)\u001b[0m\n\u001b[1;32m     29\u001b[0m \u001b[0;34m\u001b[0m\u001b[0m\n\u001b[1;32m     30\u001b[0m \u001b[0;32mdef\u001b[0m \u001b[0m_benchmark_models\u001b[0m\u001b[0;34m(\u001b[0m\u001b[0mmodels\u001b[0m\u001b[0;34m:\u001b[0m \u001b[0mList\u001b[0m\u001b[0;34m[\u001b[0m\u001b[0mtype\u001b[0m\u001b[0;34m]\u001b[0m\u001b[0;34m,\u001b[0m \u001b[0mX_train\u001b[0m\u001b[0;34m,\u001b[0m \u001b[0my_train\u001b[0m\u001b[0;34m,\u001b[0m \u001b[0mscoring\u001b[0m\u001b[0;34m)\u001b[0m \u001b[0;34m->\u001b[0m \u001b[0mpd\u001b[0m\u001b[0;34m.\u001b[0m\u001b[0mDataFrame\u001b[0m\u001b[0;34m:\u001b[0m\u001b[0;34m\u001b[0m\u001b[0m\n\u001b[0;32m---> 31\u001b[0;31m     \u001b[0;32mreturn\u001b[0m \u001b[0mpd\u001b[0m\u001b[0;34m.\u001b[0m\u001b[0mDataFrame\u001b[0m\u001b[0;34m(\u001b[0m\u001b[0mscore_model\u001b[0m\u001b[0;34m(\u001b[0m\u001b[0mmodel\u001b[0m\u001b[0;34m,\u001b[0m \u001b[0mX_train\u001b[0m\u001b[0;34m,\u001b[0m \u001b[0my_train\u001b[0m\u001b[0;34m,\u001b[0m \u001b[0mscoring\u001b[0m\u001b[0;34m)\u001b[0m \u001b[0;32mfor\u001b[0m \u001b[0mmodel\u001b[0m \u001b[0;32min\u001b[0m \u001b[0mmodels\u001b[0m\u001b[0;34m)\u001b[0m\u001b[0;34m\u001b[0m\u001b[0m\n\u001b[0m\u001b[1;32m     32\u001b[0m \u001b[0;34m\u001b[0m\u001b[0m\n\u001b[1;32m     33\u001b[0m \u001b[0;34m\u001b[0m\u001b[0m\n",
      "\u001b[0;32m~/PycharmProjects/ml/ml/benchmark.py\u001b[0m in \u001b[0;36mscore_model\u001b[0;34m(model, X_train, y_train, scoring)\u001b[0m\n\u001b[1;32m     37\u001b[0m     \u001b[0mp\u001b[0m \u001b[0;34m=\u001b[0m \u001b[0mchain\u001b[0m\u001b[0;34m(\u001b[0m\u001b[0;34m[\u001b[0m\u001b[0mdefaults\u001b[0m\u001b[0;34m]\u001b[0m\u001b[0;34m,\u001b[0m \u001b[0mParameterSampler\u001b[0m\u001b[0;34m(\u001b[0m\u001b[0mparam_distributions\u001b[0m\u001b[0;34m=\u001b[0m\u001b[0mmodel\u001b[0m\u001b[0;34m.\u001b[0m\u001b[0mhyperparameters\u001b[0m\u001b[0;34m,\u001b[0m \u001b[0mn_iter\u001b[0m\u001b[0;34m=\u001b[0m\u001b[0;36m5\u001b[0m\u001b[0;34m)\u001b[0m\u001b[0;34m)\u001b[0m\u001b[0;34m\u001b[0m\u001b[0m\n\u001b[1;32m     38\u001b[0m     \u001b[0mprint\u001b[0m\u001b[0;34m(\u001b[0m\u001b[0;34mf'Evaluating {model.__name__}'\u001b[0m\u001b[0;34m,\u001b[0m \u001b[0mend\u001b[0m\u001b[0;34m=\u001b[0m\u001b[0;34m'...'\u001b[0m\u001b[0;34m)\u001b[0m\u001b[0;34m\u001b[0m\u001b[0m\n\u001b[0;32m---> 39\u001b[0;31m     \u001b[0mbest\u001b[0m \u001b[0;34m=\u001b[0m \u001b[0mmax\u001b[0m\u001b[0;34m(\u001b[0m\u001b[0;34m[\u001b[0m\u001b[0mscore_parametrization\u001b[0m\u001b[0;34m(\u001b[0m\u001b[0mmodel\u001b[0m\u001b[0;34m(\u001b[0m\u001b[0;34m**\u001b[0m\u001b[0mhyper_params\u001b[0m\u001b[0;34m)\u001b[0m\u001b[0;34m,\u001b[0m \u001b[0mX_train\u001b[0m\u001b[0;34m,\u001b[0m \u001b[0my_train\u001b[0m\u001b[0;34m,\u001b[0m \u001b[0mscoring\u001b[0m\u001b[0;34m)\u001b[0m \u001b[0;32mfor\u001b[0m \u001b[0mhyper_params\u001b[0m \u001b[0;32min\u001b[0m \u001b[0mp\u001b[0m\u001b[0;34m]\u001b[0m\u001b[0;34m)\u001b[0m\u001b[0;34m\u001b[0m\u001b[0m\n\u001b[0m\u001b[1;32m     40\u001b[0m     \u001b[0mprint\u001b[0m\u001b[0;34m(\u001b[0m\u001b[0;34mf'... best is {best}.'\u001b[0m\u001b[0;34m)\u001b[0m\u001b[0;34m\u001b[0m\u001b[0m\n\u001b[1;32m     41\u001b[0m     \u001b[0;32mreturn\u001b[0m \u001b[0mpd\u001b[0m\u001b[0;34m.\u001b[0m\u001b[0mSeries\u001b[0m\u001b[0;34m(\u001b[0m\u001b[0mbest\u001b[0m\u001b[0;34m,\u001b[0m \u001b[0mindex\u001b[0m\u001b[0;34m=\u001b[0m\u001b[0;34m[\u001b[0m\u001b[0;34m'Mean'\u001b[0m\u001b[0;34m,\u001b[0m \u001b[0;34m'Std'\u001b[0m\u001b[0;34m,\u001b[0m \u001b[0;34m'Model'\u001b[0m\u001b[0;34m]\u001b[0m\u001b[0;34m)\u001b[0m\u001b[0;34m\u001b[0m\u001b[0m\n",
      "\u001b[0;31mTypeError\u001b[0m: '>' not supported between instances of 'RandomForestRegressor' and 'RandomForestRegressor'"
     ]
    },
    {
     "data": {
      "image/png": "[encoded data removed]",
      "text/plain": [
       "<matplotlib.figure.Figure at 0x7f2ff11e6dd8>"
      ]
     },
     "metadata": {},
     "output_type": "display_data"
    }
   ],
   "source": [
    "data=impute_linear(data,'LotFrontage',['LotArea','GarageArea','GrLivArea','MiscVal'],['Neighborhood','MSSubClass','LotShape','BldgType','LotConfig','Foundation','GarageType'],'neg_mean_squared_error')\n",
    "data=impute_logistic(data,'SaleType',['YearBuilt'],['Neighborhood','MSSubClass','RoofStyle','RoofMatl','SaleCondition','ExterCond','BldgType','MasVnrType','OverallQual','OverallCond','MSZoning'],'accuracy')"
   ]
  },
  {
   "cell_type": "code",
   "execution_count": null,
   "metadata": {},
   "outputs": [],
   "source": [
    "from sklearn.preprocessing import LabelEncoder\n",
    "cols = ('FireplaceQu', 'BsmtQual', 'BsmtCond', 'GarageQual', 'GarageCond', \n",
    "        'ExterQual', 'ExterCond','HeatingQC', 'PoolQC', 'KitchenQual',\n",
    "         'Functional', 'Fence', 'BsmtExposure', 'GarageFinish', 'LandSlope',\n",
    "        'LotShape', 'PavedDrive', 'Street', 'Alley', 'CentralAir', 'MSSubClass', 'OverallCond', \n",
    "        'YrSold', 'MoSold')\n",
    "# process columns, apply LabelEncoder to categorical features\n",
    "for c in cols:\n",
    "    lbl = LabelEncoder() \n",
    "    data[c] = lbl.fit_transform(list(data[c].values))\n",
    "data=merge_categorical(data,['Condition1','Condition2'])\n",
    "data=merge_categorical(data,['Exterior1st','Exterior2nd'])\n",
    "data=merge_categorical(data,['BsmtFinType2','BsmtFinType1'])\n",
    "data=pd.get_dummies(data)"
   ]
  },
  {
   "cell_type": "code",
   "execution_count": null,
   "metadata": {
    "scrolled": true
   },
   "outputs": [],
   "source": [
    "from sklearn.preprocessing import StandardScaler,RobustScaler\n",
    "_data = data.drop(target,axis=1)\n",
    "_data[_data.columns]=StandardScaler().fit_transform(X=data.drop(target,axis=1))\n",
    "from sklearn.decomposition import PCA\n",
    "p=PCA()\n",
    "p.fit(_data)\n",
    "__data=p.transform(_data)\n",
    "___data=pd.DataFrame(__data,index=data.index)\n",
    "___data[target]=data[target]\n",
    "# _data[_data.columns]=__data\n",
    "# _data[target]=data[target]\n",
    "___data.to_csv('datasets/houses_preprocessed.csv')\n",
    "# data.to_csv('datasets/houses_preprocessed.csv')\n",
    "# data"
   ]
  },
  {
   "cell_type": "code",
   "execution_count": null,
   "metadata": {},
   "outputs": [],
   "source": [
    "from lightgbm import LGBMRegressor\n",
    "from sklearn.utils import shuffle\n",
    "from sklearn.preprocessing import StandardScaler\n",
    "from sklearn.decomposition import PCA\n",
    "data_p = pd.read_csv('datasets/houses_preprocessed.csv', index_col='Id')\n",
    "data_p=shuffle(data_p)\n",
    "cond = data_p[target].notnull()\n",
    "X, y = data_p.drop(target, axis=1),data_p[target]\n",
    "\n",
    "X=RobustScaler().fit_transform(X=X)\n",
    "# X=PCA().fit_transform(X)\n",
    "X_train, y_train = X[cond], y[cond]\n",
    "X_test, y_test = X[~cond], y[~cond]\n",
    "\n",
    "results  = benchmark_models([make_pipeline(ElasticNet(alpha=0.0001)),Lasso(alpha=0.0008),BayesianRidge(),LassoLarsIC(),KernelRidge(),],X_train,y_train,scoring=scoring)\n",
    "# results  = benchmark_models([make_pipeline(RobustScaler(),ElasticNet(alpha=0.00008, l1_ratio=.5, ))],X_train,y_train,scoring=scoring)\n",
    "# results  = benchmark_models([GradientBoostingRegressor(n_estimators=3000, learning_rate=0.05,\n",
    "#                                    max_depth=4, max_features='sqrt',\n",
    "#                                    min_samples_leaf=15, min_samples_split=10, \n",
    "#                                    loss='huber',)],X_train,y_train,scoring=scoring)\n",
    "# plot_benchmark(results)\n",
    "# # best_models = tune_params_genetic([LGBMRegressor,XGBRegressor], X_train, y_train, scoring)\n",
    "# best_models = tune_params_genetic([BayesianRidge], X_train, y_train, scoring)\n",
    "\n",
    "# m = KernelRidge(alpha=0.6, kernel='polynomial', degree=2, coef0=2.5)\n",
    "# m=GradientBoostingRegressor(n_estimators=1000,learning_rate=0.05)\n",
    "# m =XGBRegressor()\n",
    "m=BayesianRidge()\n",
    "print(-cross_val_score(m, X_train, y_train, scoring=scoring,cv=3).mean())\n",
    "\n",
    "m.fit(X_train, y_train)"
   ]
  },
  {
   "cell_type": "code",
   "execution_count": null,
   "metadata": {},
   "outputs": [],
   "source": [
    "X_test = data_p[~cond].drop(target, axis=1)\n",
    "X_test[target] = m.predict(X_test)\n",
    "X_test['SalePrice'] = inv_boxcox(X_test[target])\n",
    "# X_test['SalePrice'] = np.exp(X_test[target])\n",
    "pred = X_test.SalePrice\n",
    "pred.to_csv('predictions/houses.csv', header=True)"
   ]
  },
  {
   "cell_type": "code",
   "execution_count": null,
   "metadata": {},
   "outputs": [],
   "source": [
    "from sklearn.metrics import make_scorer\n",
    "print(cross_val_score(m, X_train, y_train, scoring=scoring,cv=3,n_jobs=-1))"
   ]
  },
  {
   "cell_type": "code",
   "execution_count": null,
   "metadata": {},
   "outputs": [],
   "source": [
    "X_train"
   ]
  }
 ],
 "metadata": {
  "kernelspec": {
   "display_name": "Python 3",
   "language": "python",
   "name": "python3"
  },
  "language_info": {
   "codemirror_mode": {
    "name": "ipython",
    "version": 3
   },
   "file_extension": ".py",
   "mimetype": "text/x-python",
   "name": "python",
   "nbconvert_exporter": "python",
   "pygments_lexer": "ipython3",
   "version": "3.6.2"
  }
 },
 "nbformat": 4,
 "nbformat_minor": 1
}
