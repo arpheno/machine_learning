{
 "cells": [
  {
   "cell_type": "code",
   "execution_count": 1,
   "metadata": {},
   "outputs": [
    {
     "name": "stdout",
     "output_type": "stream",
     "text": [
      "'numpy 1.13.3 pandas 0.20.3 sklearn 0.19.0'\n"
     ]
    },
    {
     "name": "stderr",
     "output_type": "stream",
     "text": [
      "/home/swozny/untitled5/lib/python3.6/site-packages/sklearn/cross_validation.py:41: DeprecationWarning: This module was deprecated in version 0.18 in favor of the model_selection module into which all the refactored classes and functions are moved. Also note that the interface of the new CV iterators are different from that of this module. This module will be removed in 0.20.\n",
      "  \"This module will be removed in 0.20.\", DeprecationWarning)\n"
     ]
    }
   ],
   "source": [
    "# %load imports.ipy\n",
    "# Stdlib\n",
    "from functools import partial\n",
    "from itertools import chain\n",
    "from pprint import pprint as print\n",
    "\n",
    "import numpy as np\n",
    "import pandas as pd\n",
    "\n",
    "pd.set_option('display.max_columns',102)\n",
    "pd.set_option('display.max_colwidth', -1)\n",
    "pd.set_option('display.width',120)\n",
    "import sklearn\n",
    "print(f'numpy {np.__version__} pandas {pd.__version__} sklearn {sklearn.__version__}')\n",
    "\n",
    "# Visualization\n",
    "\n",
    "%matplotlib inline\n",
    "import matplotlib as mpl\n",
    "import matplotlib.pyplot as plt\n",
    "import seaborn as sns\n",
    "from jupyterthemes import jtplot\n",
    "\n",
    "custom_style = {'axes.labelcolor': 'white', 'xtick.color': 'white', 'ytick.color': 'white', }\n",
    "sns.set_style( rc=custom_style)\n",
    "mpl.rcParams['figure.figsize']=(10,10)\n",
    "plt.rcParams['figure.figsize']=(10,10)\n",
    "jtplot.style('monokai')\n",
    "# Custom stuff\n",
    "from swozny_ml import *\n",
    "from genetic.parameter_optimization import tune_params_genetic\n"
   ]
  },
  {
   "cell_type": "code",
   "execution_count": 2,
   "metadata": {},
   "outputs": [],
   "source": [
    "# %load classify.py\n",
    "from sklearn.calibration import CalibratedClassifierCV\n",
    "from sklearn.ensemble import VotingClassifier\n",
    "from sklearn.linear_model import LogisticRegression\n",
    "from sklearn.metrics import confusion_matrix\n",
    "from sklearn.model_selection import cross_val_predict, cross_val_score\n",
    "\n",
    "from genetic.estimator_parameters import params\n",
    "from genetic.parameter_optimization import tune_params_genetic\n",
    "from swozny_ml import benchmark_models, tune_params"
   ]
  },
  {
   "cell_type": "markdown",
   "metadata": {},
   "source": [
    "# Config"
   ]
  },
  {
   "cell_type": "code",
   "execution_count": 3,
   "metadata": {},
   "outputs": [],
   "source": [
    "filename = 'datasets/preprocessed_kobe.csv'\n",
    "index = 'shot_id'\n",
    "target = 'shot_made_flag'\n",
    "prediction_params = ['Angle', 'Distance']\n",
    "scoring = 'neg_log_loss'\n",
    "voting = 'soft'"
   ]
  },
  {
   "cell_type": "markdown",
   "metadata": {},
   "source": [
    "# Read data"
   ]
  },
  {
   "cell_type": "code",
   "execution_count": 4,
   "metadata": {},
   "outputs": [
    {
     "name": "stdout",
     "output_type": "stream",
     "text": [
      "         action_type_1  action_type_2  action_type_3  action_type_4  action_type_5  action_type_6  action_type_7  \\\n",
      "shot_id                                                                                                            \n",
      "1        0              0              0              0              0              0              0               \n",
      "2        0              0              0              0              0              0              0               \n",
      "3        0              0              0              0              0              0              0               \n",
      "4        0              0              0              0              0              0              0               \n",
      "5        0              0              0              0              0              1              0               \n",
      "\n",
      "         combined_shot_type_Dunk  combined_shot_type_Hook Shot  combined_shot_type_Jump Shot  \\\n",
      "shot_id                                                                                        \n",
      "1        0                        0                             1                              \n",
      "2        0                        0                             1                              \n",
      "3        0                        0                             1                              \n",
      "4        0                        0                             1                              \n",
      "5        1                        0                             0                              \n",
      "\n",
      "         combined_shot_type_Layup  combined_shot_type_Tip Shot  minutes_remaining_1  minutes_remaining_2  \\\n",
      "shot_id                                                                                                    \n",
      "1        0                         0                            0                    0                     \n",
      "2        0                         0                            0                    0                     \n",
      "3        0                         0                            0                    0                     \n",
      "4        0                         0                            0                    0                     \n",
      "5        0                         0                            0                    0                     \n",
      "\n",
      "         minutes_remaining_3  minutes_remaining_4  minutes_remaining_5  minutes_remaining_6  minutes_remaining_7  \\\n",
      "shot_id                                                                                                            \n",
      "1        0                    0                    0                    0                    0                     \n",
      "2        0                    0                    0                    0                    0                     \n",
      "3        0                    0                    0                    0                    1                     \n",
      "4        0                    0                    0                    1                    0                     \n",
      "5        0                    0                    0                    1                    0                     \n",
      "\n",
      "         minutes_remaining_8  minutes_remaining_9  minutes_remaining_10  minutes_remaining_11  period_2  period_3  \\\n",
      "shot_id                                                                                                             \n",
      "1        0                    0                    1                     0                     0         0          \n",
      "2        0                    0                    1                     0                     0         0          \n",
      "3        0                    0                    0                     0                     0         0          \n",
      "4        0                    0                    0                     0                     0         0          \n",
      "5        0                    0                    0                     0                     1         0          \n",
      "\n",
      "         period_4  period_5  period_6  period_7  playoffs_1  season_1  season_2  season_3  seconds_remaining_1  \\\n",
      "shot_id                                                                                                          \n",
      "1        0         0         0         0         0           0         0         1         1                     \n",
      "2        0         0         0         0         0           0         0         1         1                     \n",
      "3        0         0         0         0         0           0         0         1         1                     \n",
      "4        0         0         0         0         0           0         0         1         1                     \n",
      "5        0         0         0         0         0           0         0         1         1                     \n",
      "\n",
      "         shot_distance_1.0  shot_distance_2.0  shot_distance_3.0  shot_distance_4.0  shot_distance_5.0  \\\n",
      "shot_id                                                                                                  \n",
      "1        0                  0                  0                  0                  0                   \n",
      "2        0                  0                  0                  0                  0                   \n",
      "3        0                  0                  0                  0                  0                   \n",
      "4        0                  0                  0                  0                  0                   \n",
      "5        0                  0                  0                  0                  0                   \n",
      "\n",
      "         shot_distance_6.0  shot_distance_7.0  shot_distance_8.0  shot_distance_9.0  shot_distance_10.0  \\\n",
      "shot_id                                                                                                   \n",
      "1        0                  0                  0                  0                  0                    \n",
      "2        0                  0                  0                  0                  0                    \n",
      "3        0                  0                  0                  0                  0                    \n",
      "4        0                  0                  0                  0                  0                    \n",
      "5        0                  0                  0                  0                  0                    \n",
      "\n",
      "         shot_distance_11.0  shot_distance_12.0  shot_distance_13.0  shot_distance_14.0  shot_distance_15.0  \\\n",
      "shot_id                                                                                                       \n",
      "1        0                   0                   0                   0                   1                    \n",
      "2        0                   0                   0                   0                   0                    \n",
      "3        0                   0                   0                   0                   0                    \n",
      "4        0                   0                   0                   0                   0                    \n",
      "5        0                   0                   0                   1                   0                    \n",
      "\n",
      "         shot_distance_16.0  shot_distance_17.0       ...        shot_zone_basic_Right Corner 3  \\\n",
      "shot_id                                               ...                                         \n",
      "1        0                   0                        ...        0                                \n",
      "2        1                   0                        ...        0                                \n",
      "3        0                   0                        ...        0                                \n",
      "4        0                   0                        ...        0                                \n",
      "5        0                   0                        ...        0                                \n",
      "\n",
      "         shot_zone_range_24+ ft.  shot_zone_range_8-16 ft.  shot_zone_range_Back Court Shot  \\\n",
      "shot_id                                                                                       \n",
      "1        0                        0                         0                                 \n",
      "2        0                        1                         0                                 \n",
      "3        0                        0                         0                                 \n",
      "4        0                        0                         0                                 \n",
      "5        0                        0                         0                                 \n",
      "\n",
      "         shot_zone_range_Less Than 8 ft.  opponent_BKN  opponent_BOS  opponent_CHA  opponent_CHI  opponent_CLE  \\\n",
      "shot_id                                                                                                          \n",
      "1        0                                0             0             0             0             0              \n",
      "2        0                                0             0             0             0             0              \n",
      "3        0                                0             0             0             0             0              \n",
      "4        0                                0             0             0             0             0              \n",
      "5        1                                0             0             0             0             0              \n",
      "\n",
      "         opponent_DAL  opponent_DEN  opponent_DET  opponent_GSW  opponent_HOU  opponent_IND  opponent_LAC  \\\n",
      "shot_id                                                                                                     \n",
      "1        0             0             0             0             0             0             0              \n",
      "2        0             0             0             0             0             0             0              \n",
      "3        0             0             0             0             0             0             0              \n",
      "4        0             0             0             0             0             0             0              \n",
      "5        0             0             0             0             0             0             0              \n",
      "\n",
      "         opponent_MEM  opponent_MIA  opponent_MIL  opponent_MIN  opponent_NJN  opponent_NOH  opponent_NOP  \\\n",
      "shot_id                                                                                                     \n",
      "1        0             0             0             0             0             0             0              \n",
      "2        0             0             0             0             0             0             0              \n",
      "3        0             0             0             0             0             0             0              \n",
      "4        0             0             0             0             0             0             0              \n",
      "5        0             0             0             0             0             0             0              \n",
      "\n",
      "         opponent_NYK  opponent_OKC  opponent_ORL  opponent_PHI  opponent_PHX  opponent_POR  opponent_SAC  \\\n",
      "shot_id                                                                                                     \n",
      "1        0             0             0             0             0             1             0              \n",
      "2        0             0             0             0             0             1             0              \n",
      "3        0             0             0             0             0             1             0              \n",
      "4        0             0             0             0             0             1             0              \n",
      "5        0             0             0             0             0             1             0              \n",
      "\n",
      "         opponent_SAS  opponent_SEA  opponent_TOR  opponent_UTA  opponent_VAN  opponent_WAS  shot_location_cluster_1  \\\n",
      "shot_id                                                                                                                \n",
      "1        0             0             0             0             0             0             0                         \n",
      "2        0             0             0             0             0             0             0                         \n",
      "3        0             0             0             0             0             0             0                         \n",
      "4        0             0             0             0             0             0             0                         \n",
      "5        0             0             0             0             0             0             0                         \n",
      "\n",
      "         shot_location_cluster_2  shot_location_cluster_3  shot_location_cluster_4  shot_location_cluster_5  \\\n",
      "shot_id                                                                                                       \n",
      "1        0                        0                        0                        0                         \n",
      "2        0                        1                        0                        0                         \n",
      "3        0                        0                        0                        1                         \n",
      "4        0                        0                        0                        0                         \n",
      "5        0                        0                        1                        0                         \n",
      "\n",
      "         shot_location_cluster_6  shot_location_cluster_7  shot_location_cluster_8  shot_location_cluster_9  \\\n",
      "shot_id                                                                                                       \n",
      "1        0                        0                        0                        0                         \n",
      "2        0                        0                        0                        0                         \n",
      "3        0                        0                        0                        0                         \n",
      "4        0                        0                        0                        0                         \n",
      "5        0                        0                        0                        0                         \n",
      "\n",
      "         shot_location_cluster_10  shot_location_cluster_11  shot_location_cluster_12  home_1  shot_made_flag  \n",
      "shot_id                                                                                                        \n",
      "1        0                         1                         0                         0      NaN              \n",
      "2        0                         0                         0                         0       0.0             \n",
      "3        0                         0                         0                         0       1.0             \n",
      "4        0                         1                         0                         0       0.0             \n",
      "5        0                         0                         0                         0       1.0             \n",
      "\n",
      "[5 rows x 141 columns]\n"
     ]
    }
   ],
   "source": [
    "data = pd.read_csv(filename, index_col=index)\n",
    "print(data.head())"
   ]
  },
  {
   "cell_type": "markdown",
   "metadata": {},
   "source": [
    "# Prepare data"
   ]
  },
  {
   "cell_type": "code",
   "execution_count": 5,
   "metadata": {},
   "outputs": [],
   "source": [
    "training_cond = data[target].notnull()\n",
    "X = data[training_cond].drop(target,axis=1)#[prediction_params]\n",
    "y = data[training_cond][target]\n",
    "X_train, X_validation ,y_train,y_validation = sklearn.model_selection.train_test_split(X,y,test_size=0.05)"
   ]
  },
  {
   "cell_type": "markdown",
   "metadata": {},
   "source": [
    "# Benchmark different estimators"
   ]
  },
  {
   "cell_type": "code",
   "execution_count": 13,
   "metadata": {},
   "outputs": [
    {
     "name": "stdout",
     "output_type": "stream",
     "text": [
      "array([-0.59895449, -0.59982102, -0.59647706])\n"
     ]
    },
    {
     "ename": "NameError",
     "evalue": "name 'sm' is not defined",
     "output_type": "error",
     "traceback": [
      "\u001b[0;31m---------------------------------------------------------------------------\u001b[0m",
      "\u001b[0;31mNameError\u001b[0m                                 Traceback (most recent call last)",
      "\u001b[0;32m<ipython-input-13-5fab9292ac40>\u001b[0m in \u001b[0;36m<module>\u001b[0;34m()\u001b[0m\n\u001b[1;32m     14\u001b[0m                       }\n\u001b[1;32m     15\u001b[0m \u001b[0mprint\u001b[0m\u001b[0;34m(\u001b[0m\u001b[0mcross_val_score\u001b[0m\u001b[0;34m(\u001b[0m\u001b[0mXGBClassifier\u001b[0m\u001b[0;34m(\u001b[0m\u001b[0mn_estimators\u001b[0m\u001b[0;34m=\u001b[0m\u001b[0;36m400\u001b[0m\u001b[0;34m)\u001b[0m\u001b[0;34m,\u001b[0m\u001b[0mX_train\u001b[0m\u001b[0;34m,\u001b[0m\u001b[0my_train\u001b[0m\u001b[0;34m,\u001b[0m\u001b[0mscoring\u001b[0m\u001b[0;34m=\u001b[0m\u001b[0mscoring\u001b[0m\u001b[0;34m)\u001b[0m\u001b[0;34m)\u001b[0m\u001b[0;34m\u001b[0m\u001b[0m\n\u001b[0;32m---> 16\u001b[0;31m \u001b[0mprint\u001b[0m\u001b[0;34m(\u001b[0m\u001b[0msm\u001b[0m\u001b[0;34m)\u001b[0m\u001b[0;34m\u001b[0m\u001b[0m\n\u001b[0m\u001b[1;32m     17\u001b[0m \u001b[0mclassifiers\u001b[0m \u001b[0;34m=\u001b[0m \u001b[0;34m[\u001b[0m\u001b[0mLogisticRegression\u001b[0m\u001b[0;34m,\u001b[0m\u001b[0msm\u001b[0m\u001b[0;34m]\u001b[0m\u001b[0;31m#,partial(SVC,probability=True)]\u001b[0m\u001b[0;34m\u001b[0m\u001b[0m\n\u001b[1;32m     18\u001b[0m \u001b[0;31m# benchmark = benchmark_models(classifiers, X_train, y_train, scoring=scoring)\u001b[0m\u001b[0;34m\u001b[0m\u001b[0;34m\u001b[0m\u001b[0m\n",
      "\u001b[0;31mNameError\u001b[0m: name 'sm' is not defined"
     ]
    }
   ],
   "source": [
    "from sklearn.svm import SVC\n",
    "from functools import partial\n",
    "from xgboost import XGBClassifier\n",
    "params={\n",
    "                      'colsample_bytree': 0.6,\n",
    "                      'min_child_weight': 5, \n",
    "                      'subsample': 0.6, \n",
    "                      'learning_rate': 0.03,\n",
    "#                       'eta': 0.2, \n",
    "                      'max_depth': 11, \n",
    "                      'gamma': 0.75,\n",
    "#                       'n_classes': 2,\n",
    "                      'n_estimators': 350\n",
    "                      }\n",
    "print(cross_val_score(XGBClassifier(n_estimators=400),X_train,y_train,scoring=scoring))\n",
    "print(sm)\n",
    "classifiers = [LogisticRegression,sm]#,partial(SVC,probability=True)]\n",
    "# benchmark = benchmark_models(classifiers, X_train, y_train, scoring=scoring)"
   ]
  },
  {
   "cell_type": "markdown",
   "metadata": {},
   "source": [
    "# Report estimator performances"
   ]
  },
  {
   "cell_type": "code",
   "execution_count": null,
   "metadata": {},
   "outputs": [],
   "source": [
    "plot_benchmark(benchmark)\n",
    "considered_algorithms = benchmark.sort_values('Mean').tail(2)\n",
    "print(considered_algorithms)"
   ]
  },
  {
   "cell_type": "markdown",
   "metadata": {},
   "source": [
    "# Tune the best estimators"
   ]
  },
  {
   "cell_type": "code",
   "execution_count": null,
   "metadata": {},
   "outputs": [],
   "source": [
    "if True:\n",
    "    tuned = tune_params(classifiers, X_train, y_train, scoring=scoring)\n",
    "else:\n",
    "    tuned = tune_params_genetic(considered_algorithms['Algorithm'], X_train, y_train, scoring=scoring)"
   ]
  },
  {
   "cell_type": "markdown",
   "metadata": {},
   "source": [
    "# Calibrate the tuned estimators"
   ]
  },
  {
   "cell_type": "code",
   "execution_count": null,
   "metadata": {},
   "outputs": [],
   "source": [
    "calibrated = [CalibratedClassifierCV(model).fit(X_train, y_train) for model in tuned]\n",
    "calibrated"
   ]
  },
  {
   "cell_type": "code",
   "execution_count": null,
   "metadata": {},
   "outputs": [],
   "source": [
    "tuned[-1]"
   ]
  },
  {
   "cell_type": "markdown",
   "metadata": {},
   "source": [
    "# Show Correlation between estimators"
   ]
  },
  {
   "cell_type": "code",
   "execution_count": null,
   "metadata": {},
   "outputs": [],
   "source": [
    "predictions = pd.concat(\n",
    "    [pd.Series(model.predict(X_train), name=type(model.base_estimator).__name__) for model in calibrated], axis=1)\n",
    "sns.heatmap(predictions.corr())"
   ]
  },
  {
   "cell_type": "markdown",
   "metadata": {},
   "source": [
    "# Create an ensemble"
   ]
  },
  {
   "cell_type": "code",
   "execution_count": null,
   "metadata": {},
   "outputs": [],
   "source": [
    "ensemble_model = VotingClassifier([(type(model.base_estimator).__name__, model) for model in calibrated], voting=voting)"
   ]
  },
  {
   "cell_type": "markdown",
   "metadata": {},
   "source": [
    "# Predict"
   ]
  },
  {
   "cell_type": "code",
   "execution_count": 7,
   "metadata": {},
   "outputs": [
    {
     "name": "stdout",
     "output_type": "stream",
     "text": [
      "'Final cross validation score is [-0.64477483 -0.63629162 -0.6541632 ]'\n"
     ]
    }
   ],
   "source": [
    "ensemble_model=XGBClassifier(**params)\n",
    "score = cross_val_score(ensemble_model, X=X_validation, y=y_validation,scoring=scoring)\n",
    "print(f\"Final cross validation score is {score}\")"
   ]
  },
  {
   "cell_type": "markdown",
   "metadata": {},
   "source": [
    "# Confusion"
   ]
  },
  {
   "cell_type": "code",
   "execution_count": 8,
   "metadata": {},
   "outputs": [
    {
     "data": {
      "text/plain": [
       "<matplotlib.axes._subplots.AxesSubplot at 0x7fe75eb60198>"
      ]
     },
     "execution_count": 8,
     "metadata": {},
     "output_type": "execute_result"
    },
    {
     "data": {
      "image/png": "[encoded data removed]",
      "text/plain": [
       "<matplotlib.figure.Figure at 0x7fe75eb60b00>"
      ]
     },
     "metadata": {},
     "output_type": "display_data"
    }
   ],
   "source": [
    "ensemble_model.fit(X_train, y_train)\n",
    "sns.heatmap(confusion_matrix(ensemble_model.predict(X_train), y_train), annot=True)"
   ]
  },
  {
   "cell_type": "markdown",
   "metadata": {},
   "source": [
    "# Generate output"
   ]
  },
  {
   "cell_type": "code",
   "execution_count": 9,
   "metadata": {},
   "outputs": [],
   "source": [
    "test_cond = ~training_cond\n",
    "X_test = data[test_cond].drop(target,axis=1)#[prediction_params]\n",
    "y_pred = ensemble_model.predict_proba(X_test)\n",
    "X_test['shot_made_flag'] = y_pred[:, 1]\n",
    "X_test.shot_made_flag.to_csv('predictions/kobe.csv', header=True)"
   ]
  }
 ],
 "metadata": {
  "kernelspec": {
   "display_name": "Python 3",
   "language": "python",
   "name": "python3"
  },
  "language_info": {
   "codemirror_mode": {
    "name": "ipython",
    "version": 3
   },
   "file_extension": ".py",
   "mimetype": "text/x-python",
   "name": "python",
   "nbconvert_exporter": "python",
   "pygments_lexer": "ipython3",
   "version": "3.6.2"
  }
 },
 "nbformat": 4,
 "nbformat_minor": 2
}
