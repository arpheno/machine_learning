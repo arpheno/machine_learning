{
 "cells": [
  {
   "cell_type": "code",
   "execution_count": 1,
   "metadata": {},
   "outputs": [
    {
     "name": "stdout",
     "output_type": "stream",
     "text": [
      "'numpy 1.13.3 pandas 0.20.3 sklearn 0.19.0'\n"
     ]
    },
    {
     "name": "stderr",
     "output_type": "stream",
     "text": [
      "/home/swozny/untitled5/lib/python3.6/site-packages/sklearn/cross_validation.py:41: DeprecationWarning: This module was deprecated in version 0.18 in favor of the model_selection module into which all the refactored classes and functions are moved. Also note that the interface of the new CV iterators are different from that of this module. This module will be removed in 0.20.\n",
      "  \"This module will be removed in 0.20.\", DeprecationWarning)\n"
     ]
    }
   ],
   "source": [
    "# %load imports.ipy\n",
    "# Stdlib\n",
    "from functools import partial\n",
    "from itertools import chain\n",
    "from pprint import pprint as print\n",
    "\n",
    "import numpy as np\n",
    "import pandas as pd\n",
    "\n",
    "pd.set_option('display.max_columns',102)\n",
    "pd.set_option('display.max_colwidth', -1)\n",
    "pd.set_option('display.width',120)\n",
    "import sklearn\n",
    "print(f'numpy {np.__version__} pandas {pd.__version__} sklearn {sklearn.__version__}')\n",
    "\n",
    "# Visualization\n",
    "\n",
    "%matplotlib inline\n",
    "import matplotlib as mpl\n",
    "import matplotlib.pyplot as plt\n",
    "import seaborn as sns\n",
    "from jupyterthemes import jtplot\n",
    "\n",
    "custom_style = {'axes.labelcolor': 'white', 'xtick.color': 'white', 'ytick.color': 'white', }\n",
    "sns.set_style( rc=custom_style)\n",
    "mpl.rcParams['figure.figsize']=(10,10)\n",
    "plt.rcParams['figure.figsize']=(10,10)\n",
    "jtplot.style('monokai')\n",
    "# Custom stuff\n",
    "from swozny_ml import *\n",
    "from genetic.parameter_optimization import tune_params_genetic\n"
   ]
  },
  {
   "cell_type": "code",
   "execution_count": 2,
   "metadata": {},
   "outputs": [],
   "source": [
    "# %load classify.py\n",
    "from sklearn.calibration import CalibratedClassifierCV\n",
    "from sklearn.ensemble import VotingClassifier\n",
    "from sklearn.linear_model import LogisticRegression\n",
    "from sklearn.metrics import confusion_matrix\n",
    "from sklearn.model_selection import cross_val_predict, cross_val_score\n",
    "\n",
    "from genetic.estimator_parameters import params\n",
    "from genetic.parameter_optimization import tune_params_genetic\n",
    "from swozny_ml import benchmark_models, tune_params"
   ]
  },
  {
   "cell_type": "markdown",
   "metadata": {},
   "source": [
    "# Config"
   ]
  },
  {
   "cell_type": "code",
   "execution_count": 3,
   "metadata": {},
   "outputs": [],
   "source": [
    "filename = 'datasets/preprocessed_kobe.csv'\n",
    "index = 'shot_id'\n",
    "target = 'shot_made_flag'\n",
    "prediction_params = ['Angle', 'Distance']\n",
    "scoring = 'neg_log_loss'\n",
    "voting = 'soft'"
   ]
  },
  {
   "cell_type": "markdown",
   "metadata": {},
   "source": [
    "# Read data"
   ]
  },
  {
   "cell_type": "code",
   "execution_count": 4,
   "metadata": {},
   "outputs": [
    {
     "name": "stdout",
     "output_type": "stream",
     "text": [
      "         action_type_1  action_type_2  action_type_3  action_type_4  action_type_5  action_type_6  action_type_7  \\\n",
      "shot_id                                                                                                            \n",
      "1        0              0              0              0              0              0              0               \n",
      "2        0              0              0              0              0              0              0               \n",
      "3        0              0              0              0              0              0              0               \n",
      "4        0              0              0              0              0              0              0               \n",
      "5        0              0              0              0              0              1              0               \n",
      "\n",
      "         minutes_remaining_2  minutes_remaining_3  minutes_remaining_4  period_1  period_2  period_3  season_1  \\\n",
      "shot_id                                                                                                          \n",
      "1        0                    1                    0                    0         0         1         0          \n",
      "2        0                    1                    0                    0         0         1         0          \n",
      "3        0                    1                    0                    0         0         1         0          \n",
      "4        0                    1                    0                    0         0         1         0          \n",
      "5        0                    1                    0                    1         0         0         0          \n",
      "\n",
      "         season_2  season_3  seconds_remaining_1  shot_type_3PT Field Goal  shot_zone_area_1  shot_zone_area_2  \\\n",
      "shot_id                                                                                                          \n",
      "1        0         1         1                    0                         0                 1                  \n",
      "2        0         1         1                    0                         0                 1                  \n",
      "3        0         1         1                    0                         0                 1                  \n",
      "4        0         1         1                    0                         0                 1                  \n",
      "5        0         1         1                    0                         0                 1                  \n",
      "\n",
      "         shot_zone_basic_Backcourt  shot_zone_basic_In The Paint (Non-RA)  shot_zone_basic_Left Corner 3  \\\n",
      "shot_id                                                                                                    \n",
      "1        0                          0                                      0                               \n",
      "2        0                          0                                      0                               \n",
      "3        0                          0                                      0                               \n",
      "4        0                          0                                      0                               \n",
      "5        0                          0                                      0                               \n",
      "\n",
      "         shot_zone_basic_Mid-Range  shot_zone_basic_Restricted Area  shot_zone_basic_Right Corner 3  opponent_1  \\\n",
      "shot_id                                                                                                           \n",
      "1        1                          0                                0                               0            \n",
      "2        1                          0                                0                               0            \n",
      "3        1                          0                                0                               0            \n",
      "4        1                          0                                0                               0            \n",
      "5        0                          1                                0                               0            \n",
      "\n",
      "         opponent_2  opponent_3  Angle_2  Angle_3  Angle_4  Angle_5  Distance_2  Distance_3  Distance_4  home_1  \\\n",
      "shot_id                                                                                                           \n",
      "1        0           1           0        0        1        0        0           0           1           0        \n",
      "2        0           1           0        1        0        0        0           0           1           0        \n",
      "3        0           1           1        0        0        0        0           0           1           0        \n",
      "4        0           1           0        0        1        0        0           0           1           0        \n",
      "5        0           1           0        1        0        0        0           0           0           0        \n",
      "\n",
      "         shot_made_flag  \n",
      "shot_id                  \n",
      "1       NaN              \n",
      "2        0.0             \n",
      "3        1.0             \n",
      "4        0.0             \n",
      "5        1.0             \n"
     ]
    }
   ],
   "source": [
    "data = pd.read_csv(filename, index_col=index)\n",
    "print(data.head())"
   ]
  },
  {
   "cell_type": "markdown",
   "metadata": {},
   "source": [
    "# Prepare data"
   ]
  },
  {
   "cell_type": "code",
   "execution_count": 5,
   "metadata": {},
   "outputs": [],
   "source": [
    "training_cond = data[target].notnull()\n",
    "X = data[training_cond].drop(target,axis=1)#[prediction_params]\n",
    "y = data[training_cond][target]\n",
    "X_train, X_validation ,y_train,y_validation = sklearn.model_selection.train_test_split(X,y,test_size=0.2)"
   ]
  },
  {
   "cell_type": "markdown",
   "metadata": {},
   "source": [
    "# Benchmark different estimators"
   ]
  },
  {
   "cell_type": "code",
   "execution_count": 6,
   "metadata": {},
   "outputs": [
    {
     "name": "stdout",
     "output_type": "stream",
     "text": [
      "Evaluating LogisticRegression              ... Score -0.61\n"
     ]
    }
   ],
   "source": [
    "from sklearn.svm import SVC\n",
    "from functools import partial\n",
    "classifiers = [LogisticRegression]#,partial(SVC,probability=True)]\n",
    "benchmark = benchmark_models(classifiers, X_train, y_train, scoring=scoring)"
   ]
  },
  {
   "cell_type": "markdown",
   "metadata": {},
   "source": [
    "# Report estimator performances"
   ]
  },
  {
   "cell_type": "code",
   "execution_count": 7,
   "metadata": {},
   "outputs": [
    {
     "name": "stdout",
     "output_type": "stream",
     "text": [
      "                                                    Algorithm      Mean      Std\n",
      "0  <class 'sklearn.linear_model.logistic.LogisticRegression'> -0.607553  0.00561\n"
     ]
    },
    {
     "data": {
      "image/png": "[encoded data removed]",
      "text/plain": [
       "<matplotlib.figure.Figure at 0x7fa06a4b90f0>"
      ]
     },
     "metadata": {},
     "output_type": "display_data"
    }
   ],
   "source": [
    "plot_benchmark(benchmark)\n",
    "considered_algorithms = benchmark.sort_values('Mean').tail(1)\n",
    "print(considered_algorithms)"
   ]
  },
  {
   "cell_type": "markdown",
   "metadata": {},
   "source": [
    "# Tune the best estimators"
   ]
  },
  {
   "cell_type": "code",
   "execution_count": 8,
   "metadata": {},
   "outputs": [
    {
     "name": "stdout",
     "output_type": "stream",
     "text": [
      "Tuning LogisticRegression with {'C': array([ 0.1       ,  0.16551724,  0.23103448,  0.29655172,  0.36206897,\n",
      "        0.42758621,  0.49310345,  0.55862069,  0.62413793,  0.68965517,\n",
      "        0.75517241,  0.82068966,  0.8862069 ,  0.95172414,  1.01724138,\n",
      "        1.08275862,  1.14827586,  1.2137931 ,  1.27931034,  1.34482759,\n",
      "        1.41034483,  1.47586207,  1.54137931,  1.60689655,  1.67241379,\n",
      "        1.73793103,  1.80344828,  1.86896552,  1.93448276,  2.        ])}...\n",
      "-0.607497303548 {'C': 2.0}\n"
     ]
    }
   ],
   "source": [
    "if True:\n",
    "    tuned = tune_params(classifiers, X_train, y_train, scoring=scoring)\n",
    "else:\n",
    "    tuned = tune_params_genetic(considered_algorithms['Algorithm'], X_train, y_train, scoring=scoring)"
   ]
  },
  {
   "cell_type": "markdown",
   "metadata": {},
   "source": [
    "# Calibrate the tuned estimators"
   ]
  },
  {
   "cell_type": "code",
   "execution_count": 9,
   "metadata": {},
   "outputs": [
    {
     "data": {
      "text/plain": [
       "[CalibratedClassifierCV(base_estimator=LogisticRegression(C=2.0, class_weight=None, dual=False, fit_intercept=True,\n",
       "           intercept_scaling=1, max_iter=100, multi_class='ovr', n_jobs=1,\n",
       "           penalty='l2', random_state=None, solver='liblinear', tol=0.0001,\n",
       "           verbose=0, warm_start=False),\n",
       "             cv=3, method='sigmoid')]"
      ]
     },
     "execution_count": 9,
     "metadata": {},
     "output_type": "execute_result"
    }
   ],
   "source": [
    "calibrated = [CalibratedClassifierCV(model).fit(X_train, y_train) for model in tuned]\n",
    "calibrated"
   ]
  },
  {
   "cell_type": "code",
   "execution_count": 10,
   "metadata": {},
   "outputs": [
    {
     "data": {
      "text/plain": [
       "LogisticRegression(C=2.0, class_weight=None, dual=False, fit_intercept=True,\n",
       "          intercept_scaling=1, max_iter=100, multi_class='ovr', n_jobs=1,\n",
       "          penalty='l2', random_state=None, solver='liblinear', tol=0.0001,\n",
       "          verbose=0, warm_start=False)"
      ]
     },
     "execution_count": 10,
     "metadata": {},
     "output_type": "execute_result"
    }
   ],
   "source": [
    "tuned[-1]"
   ]
  },
  {
   "cell_type": "markdown",
   "metadata": {},
   "source": [
    "# Show Correlation between estimators"
   ]
  },
  {
   "cell_type": "code",
   "execution_count": 11,
   "metadata": {},
   "outputs": [
    {
     "data": {
      "text/plain": [
       "<matplotlib.axes._subplots.AxesSubplot at 0x7fa06a1317b8>"
      ]
     },
     "execution_count": 11,
     "metadata": {},
     "output_type": "execute_result"
    },
    {
     "data": {
      "image/png": "[encoded data removed]",
      "text/plain": [
       "<matplotlib.figure.Figure at 0x7fa06a1404e0>"
      ]
     },
     "metadata": {},
     "output_type": "display_data"
    }
   ],
   "source": [
    "predictions = pd.concat(\n",
    "    [pd.Series(model.predict(X_train), name=type(model.base_estimator).__name__) for model in calibrated], axis=1)\n",
    "sns.heatmap(predictions.corr())"
   ]
  },
  {
   "cell_type": "markdown",
   "metadata": {},
   "source": [
    "# Create an ensemble"
   ]
  },
  {
   "cell_type": "code",
   "execution_count": 12,
   "metadata": {},
   "outputs": [],
   "source": [
    "ensemble_model = VotingClassifier([(type(model.base_estimator).__name__, model) for model in calibrated], voting=voting)"
   ]
  },
  {
   "cell_type": "markdown",
   "metadata": {},
   "source": [
    "# Predict"
   ]
  },
  {
   "cell_type": "code",
   "execution_count": 13,
   "metadata": {},
   "outputs": [
    {
     "name": "stdout",
     "output_type": "stream",
     "text": [
      "'Final cross validation score is [-0.61668172 -0.61203468 -0.61989417]'\n"
     ]
    }
   ],
   "source": [
    "ensemble_model=tuned[-1]\n",
    "score = cross_val_score(ensemble_model, X=X_validation, y=y_validation,scoring=scoring)\n",
    "print(f\"Final cross validation score is {score}\")"
   ]
  },
  {
   "cell_type": "markdown",
   "metadata": {},
   "source": [
    "# Confusion"
   ]
  },
  {
   "cell_type": "code",
   "execution_count": 14,
   "metadata": {},
   "outputs": [
    {
     "data": {
      "text/plain": [
       "<matplotlib.axes._subplots.AxesSubplot at 0x7fa06a17f400>"
      ]
     },
     "execution_count": 14,
     "metadata": {},
     "output_type": "execute_result"
    },
    {
     "data": {
      "image/png": "[encoded data removed]",
      "text/plain": [
       "<matplotlib.figure.Figure at 0x7fa06a07ab38>"
      ]
     },
     "metadata": {},
     "output_type": "display_data"
    }
   ],
   "source": [
    "ensemble_model.fit(X_train, y_train)\n",
    "sns.heatmap(confusion_matrix(ensemble_model.predict(X_train), y_train), annot=True)"
   ]
  },
  {
   "cell_type": "markdown",
   "metadata": {},
   "source": [
    "# Generate output"
   ]
  },
  {
   "cell_type": "code",
   "execution_count": 15,
   "metadata": {},
   "outputs": [],
   "source": [
    "test_cond = ~training_cond\n",
    "X_test = data[test_cond].drop(target,axis=1)#[prediction_params]\n",
    "y_pred = tuned[-1].predict_proba(X_test)\n",
    "X_test['shot_made_flag'] = y_pred[:, 1]\n",
    "X_test.shot_made_flag.to_csv('predictions/kobe.csv', header=True)"
   ]
  }
 ],
 "metadata": {
  "kernelspec": {
   "display_name": "Python 3",
   "language": "python",
   "name": "python3"
  },
  "language_info": {
   "codemirror_mode": {
    "name": "ipython",
    "version": 3
   },
   "file_extension": ".py",
   "mimetype": "text/x-python",
   "name": "python",
   "nbconvert_exporter": "python",
   "pygments_lexer": "ipython3",
   "version": "3.6.2"
  }
 },
 "nbformat": 4,
 "nbformat_minor": 2
}
